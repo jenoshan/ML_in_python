{
  "nbformat": 4,
  "nbformat_minor": 0,
  "metadata": {
    "colab": {
      "name": "Lab_Session_02.ipynb",
      "provenance": [],
      "collapsed_sections": [],
      "authorship_tag": "ABX9TyNN7cdDbwoWHUkEbiG8TzKL",
      "include_colab_link": true
    },
    "kernelspec": {
      "name": "python3",
      "display_name": "Python 3"
    },
    "language_info": {
      "name": "python"
    }
  },
  "cells": [
    {
      "cell_type": "markdown",
      "metadata": {
        "id": "view-in-github",
        "colab_type": "text"
      },
      "source": [
        "<a href=\"https://colab.research.google.com/github/jenoshan/ML_in_python/blob/Lab_02/Lab_Session_02.ipynb\" target=\"_parent\"><img src=\"https://colab.research.google.com/assets/colab-badge.svg\" alt=\"Open In Colab\"/></a>"
      ]
    },
    {
      "cell_type": "markdown",
      "metadata": {
        "id": "bO4j3aKflrWA"
      },
      "source": [
        "# Section 01"
      ]
    },
    {
      "cell_type": "markdown",
      "metadata": {
        "id": "4l-_Zy0tlvXf"
      },
      "source": [
        "## 1.1 Training a Decision Tree Classifer"
      ]
    },
    {
      "cell_type": "code",
      "metadata": {
        "id": "zaFvaU_XmAcS"
      },
      "source": [
        "from sklearn.tree import DecisionTreeClassifier\n",
        "from sklearn import datasets"
      ],
      "execution_count": null,
      "outputs": []
    },
    {
      "cell_type": "code",
      "metadata": {
        "id": "XdQnYIV3pgAO"
      },
      "source": [
        "iris = datasets.load_iris()\n",
        "\n",
        "fearures = iris.data\n",
        "target = iris.target"
      ],
      "execution_count": null,
      "outputs": []
    },
    {
      "cell_type": "code",
      "metadata": {
        "id": "E07HNHgZp6I6"
      },
      "source": [
        "decisiontree = DecisionTreeClassifier(random_state=0)"
      ],
      "execution_count": null,
      "outputs": []
    },
    {
      "cell_type": "code",
      "metadata": {
        "id": "F532RBdyqRQf"
      },
      "source": [
        "model = decisiontree.fit(fearures, target)"
      ],
      "execution_count": null,
      "outputs": []
    },
    {
      "cell_type": "code",
      "metadata": {
        "id": "Trlyo7Swqfzm"
      },
      "source": [
        "observation = [[5,4,3,2]]"
      ],
      "execution_count": null,
      "outputs": []
    },
    {
      "cell_type": "code",
      "metadata": {
        "colab": {
          "base_uri": "https://localhost:8080/"
        },
        "id": "4q8yQjlzqtPG",
        "outputId": "6d6cd688-be92-4be6-be1f-55208455570e"
      },
      "source": [
        "model.predict(observation)"
      ],
      "execution_count": null,
      "outputs": [
        {
          "output_type": "execute_result",
          "data": {
            "text/plain": [
              "array([1])"
            ]
          },
          "metadata": {
            "tags": []
          },
          "execution_count": 6
        }
      ]
    },
    {
      "cell_type": "code",
      "metadata": {
        "colab": {
          "base_uri": "https://localhost:8080/"
        },
        "id": "29omgpAcrLF8",
        "outputId": "2f545418-7216-4d5f-ba63-eaf3e1e74819"
      },
      "source": [
        "model.predict_proba(observation)"
      ],
      "execution_count": null,
      "outputs": [
        {
          "output_type": "execute_result",
          "data": {
            "text/plain": [
              "array([[0., 1., 0.]])"
            ]
          },
          "metadata": {
            "tags": []
          },
          "execution_count": 7
        }
      ]
    },
    {
      "cell_type": "markdown",
      "metadata": {
        "id": "p-73anpcri3S"
      },
      "source": [
        "## 1.2 Controlling the tree size"
      ]
    },
    {
      "cell_type": "code",
      "metadata": {
        "id": "8xDRD2VtrpRF"
      },
      "source": [
        "decisiontree = DecisionTreeClassifier(random_state = 0,\n",
        "                                      max_depth = None,\n",
        "                                      min_samples_split = 2,\n",
        "                                      min_samples_leaf = 2,\n",
        "                                      max_leaf_nodes = 3,\n",
        "                                      min_impurity_decrease = 0)"
      ],
      "execution_count": null,
      "outputs": []
    },
    {
      "cell_type": "code",
      "metadata": {
        "id": "EkXJRc8ot44s"
      },
      "source": [
        "model = decisiontree.fit(fearures, target)"
      ],
      "execution_count": null,
      "outputs": []
    },
    {
      "cell_type": "markdown",
      "metadata": {
        "id": "i00AcD8uuTar"
      },
      "source": [
        "# Section 02"
      ]
    },
    {
      "cell_type": "markdown",
      "metadata": {
        "id": "fd9fOBJfusqj"
      },
      "source": [
        "## 2.1 Creating a K-Nearest Neighbor Classifier"
      ]
    },
    {
      "cell_type": "code",
      "metadata": {
        "id": "lYtnQyMUuuG8"
      },
      "source": [
        "from sklearn.neighbors import KNeighborsClassifier\n",
        "from sklearn.preprocessing import StandardScaler\n",
        "from sklearn import datasets"
      ],
      "execution_count": null,
      "outputs": []
    },
    {
      "cell_type": "code",
      "metadata": {
        "id": "g5xHkUpfvVft"
      },
      "source": [
        "iris = datasets.load_iris()\n",
        "x = iris.data\n",
        "y = iris.target"
      ],
      "execution_count": null,
      "outputs": []
    },
    {
      "cell_type": "code",
      "metadata": {
        "id": "WcsY3OjvvvFX"
      },
      "source": [
        "standardizer = StandardScaler()"
      ],
      "execution_count": null,
      "outputs": []
    },
    {
      "cell_type": "code",
      "metadata": {
        "id": "IMLS2EMfv7I0"
      },
      "source": [
        "x_std = standardizer.fit_transform(x)"
      ],
      "execution_count": null,
      "outputs": []
    },
    {
      "cell_type": "code",
      "metadata": {
        "id": "T4joOsaywGVV"
      },
      "source": [
        "knn = KNeighborsClassifier(n_neighbors=5, n_jobs=-1).fit(x_std, y)"
      ],
      "execution_count": null,
      "outputs": []
    },
    {
      "cell_type": "code",
      "metadata": {
        "id": "B3pqVHUd0NiE"
      },
      "source": [
        "new_observations = [[0.75,0.75,0.75,0.75],\n",
        "                    [1,1,1,1]]"
      ],
      "execution_count": null,
      "outputs": []
    },
    {
      "cell_type": "code",
      "metadata": {
        "colab": {
          "base_uri": "https://localhost:8080/"
        },
        "id": "M3_6xj-B02Mh",
        "outputId": "33f9db55-7f4e-4d23-d667-5c9cc3cabdee"
      },
      "source": [
        "knn.predict(new_observations)"
      ],
      "execution_count": null,
      "outputs": [
        {
          "output_type": "execute_result",
          "data": {
            "text/plain": [
              "array([1, 2])"
            ]
          },
          "metadata": {
            "tags": []
          },
          "execution_count": 17
        }
      ]
    },
    {
      "cell_type": "markdown",
      "metadata": {
        "id": "k6oDcogX1TnH"
      },
      "source": [
        "# Section 03"
      ]
    },
    {
      "cell_type": "markdown",
      "metadata": {
        "id": "yjEcEWtW1YRA"
      },
      "source": [
        "## 3.1 Training a Binary Classifier"
      ]
    },
    {
      "cell_type": "code",
      "metadata": {
        "id": "Qy5lTFYF1kVp"
      },
      "source": [
        "from sklearn.linear_model import LogisticRegression\n",
        "from sklearn import datasets\n",
        "from sklearn.preprocessing import StandardScaler"
      ],
      "execution_count": null,
      "outputs": []
    },
    {
      "cell_type": "code",
      "metadata": {
        "id": "9L7UYHkN2Aed"
      },
      "source": [
        "iris = datasets.load_iris()\n",
        "features = iris.data[:100,:]\n",
        "target = iris.target[:100]\n"
      ],
      "execution_count": null,
      "outputs": []
    },
    {
      "cell_type": "code",
      "metadata": {
        "id": "3DP-ebVN2s0k"
      },
      "source": [
        "scaler = StandardScaler()\n",
        "features_standardized = scaler.fit_transform(features)"
      ],
      "execution_count": null,
      "outputs": []
    },
    {
      "cell_type": "code",
      "metadata": {
        "id": "fukWiTi43Sex"
      },
      "source": [
        "logistic_regression = LogisticRegression(random_state=0)"
      ],
      "execution_count": null,
      "outputs": []
    },
    {
      "cell_type": "code",
      "metadata": {
        "id": "xzRE_-tK4bLD"
      },
      "source": [
        "model = logistic_regression.fit(features_standardized, target)"
      ],
      "execution_count": null,
      "outputs": []
    },
    {
      "cell_type": "code",
      "metadata": {
        "id": "RCluhRni1pUB"
      },
      "source": [
        "new_observations = [[0.5,0.5,0.5,0.5]]"
      ],
      "execution_count": null,
      "outputs": []
    },
    {
      "cell_type": "code",
      "metadata": {
        "colab": {
          "base_uri": "https://localhost:8080/"
        },
        "id": "GobfeBID14eC",
        "outputId": "684774b3-72ef-45c8-f4d1-4c050eaab812"
      },
      "source": [
        "model.predict(new_observations)"
      ],
      "execution_count": null,
      "outputs": [
        {
          "output_type": "execute_result",
          "data": {
            "text/plain": [
              "array([1])"
            ]
          },
          "metadata": {
            "tags": []
          },
          "execution_count": 8
        }
      ]
    },
    {
      "cell_type": "code",
      "metadata": {
        "colab": {
          "base_uri": "https://localhost:8080/"
        },
        "id": "0KWWAGj72EkM",
        "outputId": "f025ab07-068b-4d5e-94b3-b6a0870ade6c"
      },
      "source": [
        "model.predict_proba(new_observations)"
      ],
      "execution_count": null,
      "outputs": [
        {
          "output_type": "execute_result",
          "data": {
            "text/plain": [
              "array([[0.17738424, 0.82261576]])"
            ]
          },
          "metadata": {
            "tags": []
          },
          "execution_count": 9
        }
      ]
    },
    {
      "cell_type": "markdown",
      "metadata": {
        "id": "MDDUpzUW2ToZ"
      },
      "source": [
        "## 3.2 Training a Multiclass Classifier "
      ]
    },
    {
      "cell_type": "code",
      "metadata": {
        "id": "cxQ6EgBc2eQI"
      },
      "source": [
        "iris = datasets.load_iris()\n",
        "features = iris.data\n",
        "target = iris.target"
      ],
      "execution_count": null,
      "outputs": []
    },
    {
      "cell_type": "code",
      "metadata": {
        "id": "GGvFooyk2u-a"
      },
      "source": [
        "scaler = StandardScaler()\n",
        "features_standardized = scaler.fit_transform(features)"
      ],
      "execution_count": null,
      "outputs": []
    },
    {
      "cell_type": "code",
      "metadata": {
        "id": "E_zKinS03EVu"
      },
      "source": [
        "logistic_regression = LogisticRegression(random_state=0, multi_class=\"ovr\")"
      ],
      "execution_count": null,
      "outputs": []
    },
    {
      "cell_type": "code",
      "metadata": {
        "id": "tghLCpcH3QhD"
      },
      "source": [
        "model = logistic_regression.fit(features_standardized, target)"
      ],
      "execution_count": null,
      "outputs": []
    },
    {
      "cell_type": "markdown",
      "metadata": {
        "id": "7RHM1BSH3mNI"
      },
      "source": [
        "## 3.3 Reducing Variance Through Regularization"
      ]
    },
    {
      "cell_type": "code",
      "metadata": {
        "id": "alDDc0YU3zWs"
      },
      "source": [
        "from sklearn.linear_model import LogisticRegressionCV"
      ],
      "execution_count": null,
      "outputs": []
    },
    {
      "cell_type": "code",
      "metadata": {
        "id": "dlBZJSaV3-Xn"
      },
      "source": [
        "logistic_regression = LogisticRegressionCV(penalty='l2', Cs=10, random_state=0, n_jobs=-1)"
      ],
      "execution_count": null,
      "outputs": []
    },
    {
      "cell_type": "code",
      "metadata": {
        "id": "lMaWrkmB4Z_2"
      },
      "source": [
        "model = logistic_regression.fit(features_standardized, target)"
      ],
      "execution_count": null,
      "outputs": []
    },
    {
      "cell_type": "markdown",
      "metadata": {
        "id": "et5uRaos5C_z"
      },
      "source": [
        "## 3.4 Handling Imbalanced Classes"
      ]
    },
    {
      "cell_type": "code",
      "metadata": {
        "id": "A52Snw6G5M_k"
      },
      "source": [
        "import numpy as np\n",
        "from sklearn.linear_model import LogisticRegression"
      ],
      "execution_count": null,
      "outputs": []
    },
    {
      "cell_type": "code",
      "metadata": {
        "id": "ro3w0pGs5sTa"
      },
      "source": [
        "iris = datasets.load_iris()\n",
        "features = iris.data\n",
        "target = iris.target"
      ],
      "execution_count": null,
      "outputs": []
    },
    {
      "cell_type": "code",
      "metadata": {
        "id": "SQ6ai6Rq5-Yq"
      },
      "source": [
        "features = features[40:,:]\n",
        "target = target[40:]"
      ],
      "execution_count": null,
      "outputs": []
    },
    {
      "cell_type": "code",
      "metadata": {
        "id": "uVYQnyf26QrT"
      },
      "source": [
        "target = np.where((target==0), 0, 1)"
      ],
      "execution_count": null,
      "outputs": []
    },
    {
      "cell_type": "code",
      "metadata": {
        "id": "1PM9DLmS6k-5"
      },
      "source": [
        "scaler = StandardScaler()\n",
        "features_standardized = scaler.fit_transform(features)"
      ],
      "execution_count": null,
      "outputs": []
    },
    {
      "cell_type": "code",
      "metadata": {
        "id": "OueNpqEi6y3W"
      },
      "source": [
        "logistic_regression = LogisticRegression(random_state=0, class_weight=\"balanced\")"
      ],
      "execution_count": null,
      "outputs": []
    },
    {
      "cell_type": "code",
      "metadata": {
        "id": "YbD93rzr7DQ7"
      },
      "source": [
        "model = logistic_regression.fit(features_standardized, target)"
      ],
      "execution_count": null,
      "outputs": []
    },
    {
      "cell_type": "markdown",
      "metadata": {
        "id": "MPcXgunY7nc1"
      },
      "source": [
        "# Section 04"
      ]
    },
    {
      "cell_type": "markdown",
      "metadata": {
        "id": "YK8kdDXy7rHX"
      },
      "source": [
        "## 4.1 Training a Linear Classifier"
      ]
    },
    {
      "cell_type": "code",
      "metadata": {
        "id": "UEz7sLob72BF"
      },
      "source": [
        "from sklearn.svm import LinearSVC"
      ],
      "execution_count": null,
      "outputs": []
    },
    {
      "cell_type": "code",
      "metadata": {
        "id": "ggoqOqEn7_Bd"
      },
      "source": [
        "iris = datasets.load_iris()\n",
        "features = iris.data[:100,:2]\n",
        "target = iris.target[:100]"
      ],
      "execution_count": null,
      "outputs": []
    },
    {
      "cell_type": "code",
      "metadata": {
        "id": "SP-V1Tnu8Tvl"
      },
      "source": [
        "features_standardized = scaler.fit_transform(features)"
      ],
      "execution_count": null,
      "outputs": []
    },
    {
      "cell_type": "code",
      "metadata": {
        "id": "NXTmnNXo8eHA"
      },
      "source": [
        "svc = LinearSVC(C=1.0)"
      ],
      "execution_count": null,
      "outputs": []
    },
    {
      "cell_type": "code",
      "metadata": {
        "id": "kpJqOLHi8n6a"
      },
      "source": [
        "model = svc.fit(features_standardized, target)"
      ],
      "execution_count": null,
      "outputs": []
    },
    {
      "cell_type": "code",
      "metadata": {
        "id": "kORNxiEV8xkw"
      },
      "source": [
        "new_observations = [[-2, 3]]"
      ],
      "execution_count": null,
      "outputs": []
    },
    {
      "cell_type": "code",
      "metadata": {
        "colab": {
          "base_uri": "https://localhost:8080/"
        },
        "id": "qneURC1p87fT",
        "outputId": "94869095-2a1a-4ed4-9b7c-0ab09e6c365b"
      },
      "source": [
        "svc.predict(new_observations)"
      ],
      "execution_count": null,
      "outputs": [
        {
          "output_type": "execute_result",
          "data": {
            "text/plain": [
              "array([0])"
            ]
          },
          "metadata": {
            "tags": []
          },
          "execution_count": 30
        }
      ]
    },
    {
      "cell_type": "markdown",
      "metadata": {
        "id": "wLyordbw9nCT"
      },
      "source": [
        "## 4.2 Creating Predicted Probabilites"
      ]
    },
    {
      "cell_type": "code",
      "metadata": {
        "id": "j0mbkm0290Eh"
      },
      "source": [
        "from sklearn.svm import SVC"
      ],
      "execution_count": null,
      "outputs": []
    },
    {
      "cell_type": "code",
      "metadata": {
        "id": "EGfEE2m1-ffb"
      },
      "source": [
        "iris = datasets.load_iris()\n",
        "features = iris.data\n",
        "target = iris.target"
      ],
      "execution_count": null,
      "outputs": []
    },
    {
      "cell_type": "code",
      "metadata": {
        "id": "w0kiadLZ-lkf"
      },
      "source": [
        "features_standardized = scaler.fit_transform(features)"
      ],
      "execution_count": null,
      "outputs": []
    },
    {
      "cell_type": "code",
      "metadata": {
        "id": "EwDOSEgk-vhr"
      },
      "source": [
        "svc = SVC(kernel=\"linear\", probability=True, random_state=0)"
      ],
      "execution_count": null,
      "outputs": []
    },
    {
      "cell_type": "code",
      "metadata": {
        "id": "yZjSKskh_bj3"
      },
      "source": [
        "model = svc.fit(features_standardized, target)"
      ],
      "execution_count": null,
      "outputs": []
    },
    {
      "cell_type": "code",
      "metadata": {
        "id": "ODuU5oMXEvCV"
      },
      "source": [
        "new_observations = [[.4,.4,.4,.4]]"
      ],
      "execution_count": null,
      "outputs": []
    },
    {
      "cell_type": "code",
      "metadata": {
        "colab": {
          "base_uri": "https://localhost:8080/"
        },
        "id": "jgA6gNrDE41X",
        "outputId": "706b8010-ac93-4686-a88b-91b0eabb85fd"
      },
      "source": [
        "model.predict_proba(new_observations)"
      ],
      "execution_count": null,
      "outputs": [
        {
          "output_type": "execute_result",
          "data": {
            "text/plain": [
              "array([[0.00623541, 0.96973799, 0.0240266 ]])"
            ]
          },
          "metadata": {
            "tags": []
          },
          "execution_count": 40
        }
      ]
    },
    {
      "cell_type": "markdown",
      "metadata": {
        "id": "lPlupz_8FOBn"
      },
      "source": [
        "## 4.3 Intentifying Support Vectors"
      ]
    },
    {
      "cell_type": "code",
      "metadata": {
        "id": "NlsspIJvFjbS"
      },
      "source": [
        "iris = datasets.load_iris()\n",
        "features = iris.data[:100,:]\n",
        "target = iris.target[:100]"
      ],
      "execution_count": null,
      "outputs": []
    },
    {
      "cell_type": "code",
      "metadata": {
        "id": "N5ensbPBFsdb"
      },
      "source": [
        "features_standardized = scaler.fit_transform(features)"
      ],
      "execution_count": null,
      "outputs": []
    },
    {
      "cell_type": "code",
      "metadata": {
        "id": "mf70di3VFzGd"
      },
      "source": [
        "svc = SVC(kernel=\"linear\", random_state=0)"
      ],
      "execution_count": null,
      "outputs": []
    },
    {
      "cell_type": "code",
      "metadata": {
        "id": "y0ifuxc9GMgZ"
      },
      "source": [
        "model = svc.fit(features_standardized, target)"
      ],
      "execution_count": null,
      "outputs": []
    },
    {
      "cell_type": "code",
      "metadata": {
        "colab": {
          "base_uri": "https://localhost:8080/"
        },
        "id": "oBd-x_oIGasS",
        "outputId": "7f749e73-fdf6-4e41-8e80-1409ef470a45"
      },
      "source": [
        "model.support_vectors_"
      ],
      "execution_count": null,
      "outputs": [
        {
          "output_type": "execute_result",
          "data": {
            "text/plain": [
              "array([[-0.5810659 ,  0.42196824, -0.80497402, -0.50860702],\n",
              "       [-1.52079513, -1.67737625, -1.08231219, -0.86427627],\n",
              "       [-0.89430898, -1.4674418 ,  0.30437864,  0.38056609],\n",
              "       [-0.5810659 , -1.25750735,  0.09637501,  0.55840072]])"
            ]
          },
          "metadata": {
            "tags": []
          },
          "execution_count": 45
        }
      ]
    },
    {
      "cell_type": "markdown",
      "metadata": {
        "id": "WBmAvQhuHCYM"
      },
      "source": [
        "# Section 05"
      ]
    },
    {
      "cell_type": "markdown",
      "metadata": {
        "id": "adFtgAt9HGFv"
      },
      "source": [
        "## 5.1 Training a Classifier for contious features"
      ]
    },
    {
      "cell_type": "code",
      "metadata": {
        "id": "UxNsPH1RHcDv"
      },
      "source": [
        "from sklearn.naive_bayes import GaussianNB"
      ],
      "execution_count": null,
      "outputs": []
    },
    {
      "cell_type": "code",
      "metadata": {
        "id": "M61gqqzWHl2q"
      },
      "source": [
        "iris = datasets.load_iris()\n",
        "features = iris.data\n",
        "target = iris.target"
      ],
      "execution_count": null,
      "outputs": []
    },
    {
      "cell_type": "code",
      "metadata": {
        "id": "IMiwObYSH_9t"
      },
      "source": [
        "classifier = GaussianNB()"
      ],
      "execution_count": null,
      "outputs": []
    },
    {
      "cell_type": "code",
      "metadata": {
        "id": "vG6wpRRPIHlR"
      },
      "source": [
        "model = classifier.fit(features, target)"
      ],
      "execution_count": null,
      "outputs": []
    },
    {
      "cell_type": "code",
      "metadata": {
        "id": "yC3g7MUBITu-"
      },
      "source": [
        "new_observations = [[4,4,4,.4]]"
      ],
      "execution_count": null,
      "outputs": []
    },
    {
      "cell_type": "code",
      "metadata": {
        "colab": {
          "base_uri": "https://localhost:8080/"
        },
        "id": "7lmdlmDgIceZ",
        "outputId": "bd270299-fc35-4b92-8fdf-7e098df6a388"
      },
      "source": [
        "model.predict(new_observations)"
      ],
      "execution_count": null,
      "outputs": [
        {
          "output_type": "execute_result",
          "data": {
            "text/plain": [
              "array([1])"
            ]
          },
          "metadata": {
            "tags": []
          },
          "execution_count": 51
        }
      ]
    },
    {
      "cell_type": "markdown",
      "metadata": {
        "id": "9zx-rGlJInIy"
      },
      "source": [
        "## 5.2 Training a classifier for discrete and count features"
      ]
    },
    {
      "cell_type": "code",
      "metadata": {
        "id": "dNmijzIfJB0o"
      },
      "source": [
        "from sklearn.naive_bayes import MultinomialNB\n",
        "from sklearn.feature_extraction.text import CountVectorizer"
      ],
      "execution_count": null,
      "outputs": []
    },
    {
      "cell_type": "code",
      "metadata": {
        "id": "g_gfYVV0JZ8_"
      },
      "source": [
        "text_data = np.array(['I love Brazil. Brazil!',\n",
        "                      'Brazil is best',\n",
        "                      'Germany beats both'])"
      ],
      "execution_count": null,
      "outputs": []
    },
    {
      "cell_type": "code",
      "metadata": {
        "id": "7xrIYiL_Kiuj"
      },
      "source": [
        "count = CountVectorizer()\n",
        "bag_of_words = count.fit_transform(text_data)"
      ],
      "execution_count": null,
      "outputs": []
    },
    {
      "cell_type": "code",
      "metadata": {
        "id": "ukoniJ1QK5p3"
      },
      "source": [
        "features = bag_of_words.toarray()"
      ],
      "execution_count": null,
      "outputs": []
    },
    {
      "cell_type": "code",
      "metadata": {
        "colab": {
          "base_uri": "https://localhost:8080/"
        },
        "id": "6lSTYmv2LDmj",
        "outputId": "10e88092-2d56-47ad-dfc9-21099609522b"
      },
      "source": [
        "features"
      ],
      "execution_count": null,
      "outputs": [
        {
          "output_type": "execute_result",
          "data": {
            "text/plain": [
              "array([[0, 0, 0, 2, 0, 0, 1],\n",
              "       [0, 1, 0, 1, 0, 1, 0],\n",
              "       [1, 0, 1, 0, 1, 0, 0]])"
            ]
          },
          "metadata": {
            "tags": []
          },
          "execution_count": 56
        }
      ]
    },
    {
      "cell_type": "code",
      "metadata": {
        "id": "bBbygmCrLRNU"
      },
      "source": [
        "target = np.array([0,0,1])"
      ],
      "execution_count": null,
      "outputs": []
    },
    {
      "cell_type": "code",
      "metadata": {
        "id": "8rGr3-3RLcFA"
      },
      "source": [
        "classifier = MultinomialNB(class_prior=[0.25, 0.5])"
      ],
      "execution_count": null,
      "outputs": []
    },
    {
      "cell_type": "code",
      "metadata": {
        "id": "jF6-iXn5LrTl"
      },
      "source": [
        "model = classifier.fit(features, target)"
      ],
      "execution_count": null,
      "outputs": []
    },
    {
      "cell_type": "code",
      "metadata": {
        "id": "zAwo5BKxL5cL"
      },
      "source": [
        "new_observations = [[0,0,0,1,0,1,0]]"
      ],
      "execution_count": null,
      "outputs": []
    },
    {
      "cell_type": "code",
      "metadata": {
        "colab": {
          "base_uri": "https://localhost:8080/"
        },
        "id": "BqaLxMfRMKP9",
        "outputId": "21fc7f04-f9cf-4869-f1dc-765954e65a2f"
      },
      "source": [
        "model.predict(new_observations)"
      ],
      "execution_count": null,
      "outputs": [
        {
          "output_type": "execute_result",
          "data": {
            "text/plain": [
              "array([0])"
            ]
          },
          "metadata": {
            "tags": []
          },
          "execution_count": 61
        }
      ]
    },
    {
      "cell_type": "markdown",
      "metadata": {
        "id": "cu8RApPBMS7Z"
      },
      "source": [
        "## 5.3 Training a Naive Bayes classifier for Binary Features"
      ]
    },
    {
      "cell_type": "code",
      "metadata": {
        "id": "kZ7Xdx0pMtXs"
      },
      "source": [
        "from sklearn.naive_bayes import BernoulliNB"
      ],
      "execution_count": null,
      "outputs": []
    },
    {
      "cell_type": "code",
      "metadata": {
        "id": "fofZDr0INJwb"
      },
      "source": [
        "features = np.random.randint(2, size=(100, 3))"
      ],
      "execution_count": null,
      "outputs": []
    },
    {
      "cell_type": "code",
      "metadata": {
        "id": "BdTypelCOG26"
      },
      "source": [
        "target = np.random.randint(2, size=(100,1)).ravel()"
      ],
      "execution_count": null,
      "outputs": []
    },
    {
      "cell_type": "code",
      "metadata": {
        "id": "A9T2l754O48T"
      },
      "source": [
        "classifier = BernoulliNB(class_prior=[0.25, 0.5])"
      ],
      "execution_count": null,
      "outputs": []
    },
    {
      "cell_type": "code",
      "metadata": {
        "id": "hiyhGA7wPFrP"
      },
      "source": [
        "model = classifier.fit(features, target)"
      ],
      "execution_count": null,
      "outputs": []
    }
  ]
}